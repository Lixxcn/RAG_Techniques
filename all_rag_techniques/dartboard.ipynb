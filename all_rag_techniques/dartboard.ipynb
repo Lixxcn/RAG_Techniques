{
 "cells": [
  {
   "cell_type": "markdown",
   "metadata": {},
   "source": [
    "[![Open in Colab](https://colab.research.google.com/assets/colab-badge.svg)](https://colab.research.google.com/github/NirDiamant/RAG_Techniques/blob/main/all_rag_techniques/dartboard.ipynb)"
   ]
  },
  {
   "cell_type": "markdown",
   "metadata": {},
   "source": [
    "# Dartboard RAG：具有平衡相关性和多样性的检索增强生成\n",
    "\n",
    "## 概述\n",
    "**Dartboard RAG** 流程解决了大型知识库中的一个常见挑战：确保检索到的信息既相关又非冗余。通过明确优化组合的相关性-多样性评分函数，它防止了多个 top-k 文档提供相同的信息。这种方法源于论文中的优雅方法：\n",
    "\n",
    "> [*使用相关信息增益实现更好的 RAG*](https://arxiv.org/abs/2407.12101)\n",
    "\n",
    "该论文概述了核心思想的三种变体——混合 RAG（密集+稀疏）、交叉编码器版本和普通方法。**普通方法**最直接地传达了基本概念，而此实现通过可选权重对其进行了扩展，以控制相关性和多样性之间的平衡。\n",
    "\n",
    "## 动机\n",
    "\n",
    "1. **密集、重叠的知识库**  \n",
    "   在大型数据库中，文档可能会重复相似的内容，导致 top-k 检索中出现冗余。\n",
    "\n",
    "2. **改进的信息覆盖范围**  \n",
    "   结合相关性和多样性可以产生更丰富的文档集，从而减轻内容过于相似的“回声室”效应。\n",
    "\n",
    "\n",
    "## 关键组件\n",
    "\n",
    "1. **相关性与多样性的结合**  \n",
    "   - 计算一个综合得分，该得分既考虑了文档与查询的相关性，也考虑了其与已选文档的区别。\n",
    "\n",
    "2. **加权平衡**  \n",
    "   - 引入 RELEVANCE_WEIGHT 和 DIVERSITY_WEIGHT 以允许动态控制评分。  \n",
    "   - 有助于避免过于多样化但相关性较低的结果。\n",
    "\n",
    "3. **生产就绪代码**  \n",
    "   - 源自官方实现，但为清晰起见进行了重组。  \n",
    "   - 允许更轻松地集成到现有的 RAG 管道中。\n",
    "\n",
    "## 方法细节\n",
    "\n",
    "1. **文档检索**  \n",
    "   - 基于相似性（例如，余弦或 BM25）获取一组初始候选文档。  \n",
    "   - 通常检索 top-N 候选文档作为起点。\n",
    "\n",
    "2. **评分与选择**  \n",
    "   - 每个文档的总分结合了**相关性**和**多样性**：  \n",
    "   - 选择得分最高的文档，然后对与其过于相似的文档进行惩罚。  \n",
    "   - 重复此过程，直到确定 top-k 文档。\n",
    "\n",
    "3. **混合/融合与交叉编码器支持**  \n",
    "   基本上，您只需要文档与查询之间的距离，以及文档之间的距离。您可以轻松地从混合/融合检索或交叉编码器检索中提取这些信息。我唯一的建议是减少对基于排序的得分的依赖。\n",
    "   - 对于**混合/融合检索**：将相似性（密集和稀疏/BM25）合并为单个距离。这可以通过组合密集和稀疏向量上的余弦相似性（例如，对它们进行平均）来实现。转换为距离很简单（1 - 平均余弦相似性）。 \n",
    "   - 对于**交叉编码器**：您可以直接使用交叉编码器相似性得分（1 - 相似性），并可能使用缩放因子进行调整。\n",
    "\n",
    "4. **平衡与调整**  \n",
    "   - 根据您的需求和数据集的密度调整 DIVERSITY_WEIGHT 和 RELEVANCE_WEIGHT。  \n",
    "\n",
    "\n",
    "\n",
    "通过将**相关性**和**多样性**都集成到检索中，Dartboard RAG 方法可确保 top-k 文档共同提供更丰富、更全面的信息，从而在检索增强生成系统中获得更高质量的响应。\n",
    "\n",
    "该论文还有一个官方代码实现，此代码基于该实现，但我认为这里的代码更具可读性、可管理性且已为生产就绪。"
   ]
  },
  {
   "cell_type": "markdown",
   "metadata": {},
   "source": [
    "# 包安装和导入\n",
    "\n",
    "下面的单元格安装运行此笔记本所需的所有必要包。\n"
   ]
  },
  {
   "cell_type": "code",
   "execution_count": null,
   "metadata": {},
   "outputs": [],
   "source": [
    "# 安装所需的包\n",
    "!pip install numpy python-dotenv"
   ]
  },
  {
   "cell_type": "code",
   "execution_count": null,
   "metadata": {},
   "outputs": [],
   "source": [
    "# 克隆仓库以访问辅助函数和评估模块\n",
    "!git clone https://github.com/NirDiamant/RAG_TECHNIQUES.git\n",
    "import sys\n",
    "sys.path.append('RAG_TECHNIQUES')\n",
    "# 如果您需要使用最新数据运行\n",
    "# !cp -r RAG_TECHNIQUES/data ."
   ]
  },
  {
   "cell_type": "code",
   "execution_count": null,
   "metadata": {},
   "outputs": [
    {
     "name": "stdout",
     "output_type": "stream",
     "text": [
      "Please enter your OpenAI API key: \n"
     ]
    }
   ],
   "source": [
    "import os\n",
    "import sys\n",
    "from dotenv import load_dotenv\n",
    "from scipy.special import logsumexp\n",
    "from typing import Tuple, List, Any\n",
    "import numpy as np\n",
    "\n",
    "# 从 .env 文件加载环境变量\n",
    "load_dotenv()\n",
    "# 设置 OpenAI API 密钥环境变量（如果不使用 OpenAI，请注释掉）\n",
    "if not os.getenv('OPENAI_API_KEY'):\n",
    "    print(\"Please enter your OpenAI API key: \")\n",
    "    os.environ[\"OPENAI_API_KEY\"] = input(\"Please enter your OpenAI API key: \")\n",
    "else:\n",
    "    os.environ[\"OPENAI_API_KEY\"] = os.getenv('OPENAI_API_KEY')\n",
    "\n",
    "# 为兼容 Colab 替换了原始路径追加\n",
    "from helper_functions import *\n",
    "from evaluation.evalute_rag import *\n"
   ]
  },
  {
   "cell_type": "markdown",
   "metadata": {},
   "source": [
    "### 读取文档"
   ]
  },
  {
   "cell_type": "code",
   "execution_count": null,
   "metadata": {},
   "outputs": [],
   "source": [
    "# 下载所需的数据文件\n",
    "import os\n",
    "os.makedirs('data', exist_ok=True)\n",
    "\n",
    "# 下载本笔记本使用的 PDF 文档\n",
    "!wget -O data/Understanding_Climate_Change.pdf https://raw.githubusercontent.com/NirDiamant/RAG_TECHNIQUES/main/data/Understanding_Climate_Change.pdf\n",
    "!wget -O data/Understanding_Climate_Change.pdf https://raw.githubusercontent.com/NirDiamant/RAG_TECHNIQUES/main/data/Understanding_Climate_Change.pdf\n"
   ]
  },
  {
   "cell_type": "code",
   "execution_count": 3,
   "metadata": {},
   "outputs": [],
   "source": [
    "path = \"data/Understanding_Climate_Change.pdf\""
   ]
  },
  {
   "cell_type": "markdown",
   "metadata": {},
   "source": [
    "### 编码文档"
   ]
  },
  {
   "cell_type": "code",
   "execution_count": 4,
   "metadata": {},
   "outputs": [],
   "source": [
    "# 这部分与 simple_rag.ipynb 相同，只是模拟了一个密集数据集\n",
    "def encode_pdf(path, chunk_size=1000, chunk_overlap=200):\n",
    "    \"\"\"\n",
    "    使用 OpenAI 嵌入将 PDF 书籍编码到向量存储中。\n",
    "\n",
    "    参数：\n",
    "        path: PDF 文件的路径。\n",
    "        chunk_size: 每个文本块的期望大小。\n",
    "        chunk_overlap: 连续块之间的重叠量。\n",
    "\n",
    "    返回：\n",
    "        包含编码后的书籍内容的 FAISS 向量存储。\n",
    "    \"\"\"\n",
    "\n",
    "    # 加载 PDF 文档\n",
    "    loader = PyPDFLoader(path)\n",
    "    documents = loader.load()\n",
    "    documents=documents*5 # 每个文档加载 5 次以模拟密集数据集\n",
    "\n",
    "    # 将文档拆分为块\n",
    "    text_splitter = RecursiveCharacterTextSplitter(\n",
    "        chunk_size=chunk_size, chunk_overlap=chunk_overlap, length_function=len\n",
    "    )\n",
    "    texts = text_splitter.split_documents(documents)\n",
    "    cleaned_texts = replace_t_with_space(texts)\n",
    "\n",
    "    # 创建嵌入（已使用 OpenAI 和 Amazon Bedrock 测试）\n",
    "    embeddings = get_langchain_embedding_provider(EmbeddingProvider.OPENAI)\n",
    "    #embeddings = get_langchain_embedding_provider(EmbeddingProvider.AMAZON_BEDROCK) #亚马逊基岩嵌入\n",
    "\n",
    "    # 创建向量存储\n",
    "    vectorstore = FAISS.from_documents(cleaned_texts, embeddings)\n",
    "\n",
    "    return vectorstore"
   ]
  },
  {
   "cell_type": "markdown",
   "metadata": {},
   "source": [
    "### 创建向量存储\n"
   ]
  },
  {
   "cell_type": "code",
   "execution_count": 5,
   "metadata": {},
   "outputs": [],
   "source": [
    "chunks_vector_store = encode_pdf(path, chunk_size=1000, chunk_overlap=200)"
   ]
  },
  {
   "cell_type": "markdown",
   "metadata": {},
   "source": [
    "### 一些用于使用向量存储进行检索的辅助函数。\n",
    "这部分与 simple_rag.ipynb 相同，只是它使用的是实际的 FAISS 索引（而不是包装器）"
   ]
  },
  {
   "cell_type": "code",
   "execution_count": 6,
   "metadata": {},
   "outputs": [],
   "source": [
    "\n",
    "def idx_to_text(idx:int):\n",
    "    \"\"\"\n",
    "    将向量存储索引转换为相应的文本。\n",
    "    \"\"\"\n",
    "    docstore_id = chunks_vector_store.index_to_docstore_id[idx]\n",
    "    document = chunks_vector_store.docstore.search(docstore_id)\n",
    "    return document.page_content\n",
    "\n",
    "\n",
    "def get_context(query:str,k:int=5) -> Tuple[np.ndarray, np.ndarray, List[str]]:\n",
    "    \"\"\"\n",
    "    使用 top k 检索来检索查询的前 k 个上下文项。\n",
    "    \"\"\"\n",
    "    # 常规 top k 检索\n",
    "    q_vec=chunks_vector_store.embedding_function.embed_documents([query])\n",
    "    _,indices=chunks_vector_store.index.search(np.array(q_vec),k=k)\n",
    "\n",
    "    texts = [idx_to_text(i) for i in indices[0]]\n",
    "    return texts\n"
   ]
  },
  {
   "cell_type": "code",
   "execution_count": 10,
   "metadata": {},
   "outputs": [],
   "source": [
    "\n",
    "test_query = \"What is the main cause of climate change?\"\n"
   ]
  },
  {
   "cell_type": "markdown",
   "metadata": {},
   "source": [
    "### 常规 top k 检索\n",
    "- 此演示表明，当数据库密集时（此处我们通过加载每个文档 5 次来模拟密度），结果不佳，我们无法获得最相关的结果。请注意，前 3 个结果都是同一文档的重复。"
   ]
  },
  {
   "cell_type": "code",
   "execution_count": 11,
   "metadata": {},
   "outputs": [
    {
     "name": "stdout",
     "output_type": "stream",
     "text": [
      "Context 1:\n",
      "driven by human activities, particularly the emission of greenhou se gases.  \n",
      "Chapter 2: Causes of Climate Change  \n",
      "Greenhouse Gases  \n",
      "The primary cause of recent climate change is the increase in greenhouse gases in the \n",
      "atmosphere. Greenhouse gases, such as carbon dioxide (CO2), methane (CH4), and nitrous \n",
      "oxide (N2O), trap heat from the sun, creating a \"greenhouse effect.\" This effect is  essential \n",
      "for life on Earth, as it keeps the planet warm enough to support life. However, human \n",
      "activities have intensified this natural process, leading to a warmer climate.  \n",
      "Fossil Fuels  \n",
      "Burning fossil fuels for energy releases large amounts of CO2. This includes coal, oil, and \n",
      "natural gas used for electricity, heating, and transportation. The industrial revolution marked \n",
      "the beginning of a significant increase in fossil fuel consumption, which continues to rise \n",
      "today.  \n",
      "Coal\n",
      "\n",
      "\n",
      "Context 2:\n",
      "driven by human activities, particularly the emission of greenhou se gases.  \n",
      "Chapter 2: Causes of Climate Change  \n",
      "Greenhouse Gases  \n",
      "The primary cause of recent climate change is the increase in greenhouse gases in the \n",
      "atmosphere. Greenhouse gases, such as carbon dioxide (CO2), methane (CH4), and nitrous \n",
      "oxide (N2O), trap heat from the sun, creating a \"greenhouse effect.\" This effect is  essential \n",
      "for life on Earth, as it keeps the planet warm enough to support life. However, human \n",
      "activities have intensified this natural process, leading to a warmer climate.  \n",
      "Fossil Fuels  \n",
      "Burning fossil fuels for energy releases large amounts of CO2. This includes coal, oil, and \n",
      "natural gas used for electricity, heating, and transportation. The industrial revolution marked \n",
      "the beginning of a significant increase in fossil fuel consumption, which continues to rise \n",
      "today.  \n",
      "Coal\n",
      "\n",
      "\n",
      "Context 3:\n",
      "driven by human activities, particularly the emission of greenhou se gases.  \n",
      "Chapter 2: Causes of Climate Change  \n",
      "Greenhouse Gases  \n",
      "The primary cause of recent climate change is the increase in greenhouse gases in the \n",
      "atmosphere. Greenhouse gases, such as carbon dioxide (CO2), methane (CH4), and nitrous \n",
      "oxide (N2O), trap heat from the sun, creating a \"greenhouse effect.\" This effect is  essential \n",
      "for life on Earth, as it keeps the planet warm enough to support life. However, human \n",
      "activities have intensified this natural process, leading to a warmer climate.  \n",
      "Fossil Fuels  \n",
      "Burning fossil fuels for energy releases large amounts of CO2. This includes coal, oil, and \n",
      "natural gas used for electricity, heating, and transportation. The industrial revolution marked \n",
      "the beginning of a significant increase in fossil fuel consumption, which continues to rise \n",
      "today.  \n",
      "Coal\n",
      "\n",
      "\n"
     ]
    }
   ],
   "source": [
    "texts=get_context(test_query,k=3)\n",
    "show_context(texts)"
   ]
  },
  {
   "cell_type": "markdown",
   "metadata": {},
   "source": [
    "## 现在是真正的部分 :)"
   ]
  },
  {
   "cell_type": "markdown",
   "metadata": {},
   "source": [
    "\n",
    "### 更多用于距离归一化的工具"
   ]
  },
  {
   "cell_type": "code",
   "execution_count": 21,
   "metadata": {},
   "outputs": [],
   "source": [
    "def lognorm(dist:np.ndarray, sigma:float):\n",
    "    \"\"\"\n",
    "    计算给定距离和 sigma 的对数正态概率。\n",
    "    \"\"\"\n",
    "    if sigma < 1e-9: \n",
    "        return -np.inf * dist\n",
    "    return -np.log(sigma) - 0.5 * np.log(2 * np.pi) - dist**2 / (2 * sigma**2)\n"
   ]
  },
  {
   "cell_type": "markdown",
   "metadata": {},
   "source": [
    "## 贪心 Dartboard 搜索\n",
    "\n",
    "这是核心算法：一种搜索算法，通过平衡两个因素从集合中选择一组多样化的相关文档：与查询的相关性和所选文档之间的多样性。\n",
    "\n",
    "给定查询与文档之间的距离，以及所有文档之间的距离，该算法：\n",
    "\n",
    "1. 首先选择最相关的文档\n",
    "2. 通过组合以下内容迭代选择其他文档：\n",
    "   - 与原始查询的相关性\n",
    "   - 与先前选择的文档的多样性\n",
    "\n",
    "相关性和多样性之间的平衡由权重控制：\n",
    "- `DIVERSITY_WEIGHT`：与现有选择差异的重要性\n",
    "- `RELEVANCE_WEIGHT`：与查询相关性的重要性\n",
    "- `SIGMA`：用于概率转换的平滑参数\n",
    "\n",
    "该算法返回所选文档及其选择分数，这使其对于需要相关但多样化结果的搜索结果等应用程序非常有用。\n",
    "\n",
    "例如，在搜索新闻文章时，它会首先返回最相关的文章，然后查找既切题又提供新信息的文章，从而避免冗余选择。"
   ]
  },
  {
   "cell_type": "code",
   "execution_count": null,
   "metadata": {},
   "outputs": [],
   "source": [
    "# 配置参数\n",
    "DIVERSITY_WEIGHT = 1.0  # 文档选择中多样性的权重\n",
    "RELEVANCE_WEIGHT = 1.0  # 与查询相关性的权重\n",
    "SIGMA = 0.1  # 概率分布的平滑参数\n",
    "\n",
    "def greedy_dartsearch(\n",
    "    query_distances: np.ndarray,\n",
    "    document_distances: np.ndarray,\n",
    "    documents: List[str],\n",
    "    num_results: int\n",
    ") -> Tuple[List[str], List[float]]:\n",
    "    \"\"\"\n",
    "    执行贪心 dartboard 搜索以选择 top k 个平衡相关性和多样性的文档。\n",
    "    \n",
    "    参数：\n",
    "        query_distances: 查询与每个文档之间的距离\n",
    "        document_distances: 文档之间的成对距离\n",
    "        documents: 文档文本列表\n",
    "        num_results: 要返回的文档数\n",
    "    \n",
    "    返回：\n",
    "        包含以下内容的元组：\n",
    "        - 所选文档文本列表\n",
    "        - 每个文档的选择分数列表\n",
    "    \"\"\"\n",
    "    # 避免在概率计算中除以零\n",
    "    sigma = max(SIGMA, 1e-5)\n",
    "    \n",
    "    # 将距离转换为概率分布\n",
    "    query_probabilities = lognorm(query_distances, sigma)\n",
    "    document_probabilities = lognorm(document_distances, sigma)\n",
    "    \n",
    "    # 使用最相关的文档进行初始化\n",
    "    \n",
    "    most_relevant_idx = np.argmax(query_probabilities)\n",
    "    selected_indices = np.array([most_relevant_idx])\n",
    "    selection_scores = [1.0] # 第一个文档的虚拟分数\n",
    "    # 从第一个选定的文档中获取初始距离\n",
    "    max_distances = document_probabilities[most_relevant_idx]\n",
    "    \n",
    "    # 选择剩余的文档\n",
    "    while len(selected_indices) < num_results:\n",
    "        # 考虑新文档更新最大距离\n",
    "        updated_distances = np.maximum(max_distances, document_probabilities)\n",
    "        \n",
    "        # 计算组合的多样性和相关性得分\n",
    "        combined_scores = (\n",
    "            updated_distances * DIVERSITY_WEIGHT +\n",
    "            query_probabilities * RELEVANCE_WEIGHT\n",
    "        )\n",
    "        \n",
    "        # 归一化分数并屏蔽已选择的文档\n",
    "        normalized_scores = logsumexp(combined_scores, axis=1)\n",
    "        normalized_scores[selected_indices] = -np.inf\n",
    "        \n",
    "        # 选择最佳剩余文档\n",
    "        best_idx = np.argmax(normalized_scores)\n",
    "        best_score = np.max(normalized_scores)\n",
    "        \n",
    "        # 更新跟踪变量\n",
    "        max_distances = updated_distances[best_idx]\n",
    "        selected_indices = np.append(selected_indices, best_idx)\n",
    "        selection_scores.append(best_score)\n",
    "    \n",
    "    # 返回选定的文档及其分数\n",
    "    selected_documents = [documents[i] for i in selected_indices]\n",
    "    return selected_documents, selection_scores"
   ]
  },
  {
   "cell_type": "markdown",
   "metadata": {},
   "source": [
    "## Dartboard 上下文检索\n",
    "\n",
    "### 使用 dartboard 检索的主要功能。它取代了 get_context（即简单的 RAG）。它：\n",
    "\n",
    "1. 获取文本查询，将其向量化，通过简单的 RAG 获取 top k 个文档（及其向量）\n",
    "2. 使用这些向量计算与查询的相似度以及候选匹配项之间的相似度\n",
    "3. 运行 dartboard 算法将候选匹配项优化为 k 个文档的最终列表\n",
    "4. 返回最终的文档列表及其分数"
   ]
  },
  {
   "cell_type": "code",
   "execution_count": null,
   "metadata": {},
   "outputs": [],
   "source": [
    "\n",
    "def get_context_with_dartboard(\n",
    "    query: str,\n",
    "    num_results: int = 5,\n",
    "    oversampling_factor: int = 3\n",
    ") -> Tuple[List[str], List[float]]:\n",
    "    \"\"\"\n",
    "    使用 dartboard 算法检索查询最相关和最多样化的上下文项。\n",
    "    \n",
    "    参数：\n",
    "        query: 搜索查询字符串\n",
    "        num_results: 要返回的上下文项数（默认值：5）\n",
    "        oversampling_factor: 用于对初始结果进行过采样以获得更好多样性的因子（默认值：3）\n",
    "    \n",
    "    返回：\n",
    "        包含以下内容的元组：\n",
    "        - 选定的上下文文本列表\n",
    "        - 选择分数列表\n",
    "        \n",
    "    注意：\n",
    "        该函数使用转换为距离的余弦相似度。初始检索 \n",
    "        获取 oversampling_factor * num_results 项以确保最终选择中足够的多样性。\n",
    "    \"\"\"\n",
    "    # 嵌入查询并检索初始候选\n",
    "    query_embedding = chunks_vector_store.embedding_function.embed_documents([query])\n",
    "    _, candidate_indices = chunks_vector_store.index.search(\n",
    "        np.array(query_embedding),\n",
    "        k=num_results * oversampling_factor\n",
    "    )\n",
    "    \n",
    "    # 获取候选的文档向量和文本\n",
    "    candidate_vectors = np.array(\n",
    "        chunks_vector_store.index.reconstruct_batch(candidate_indices[0])\n",
    "    )\n",
    "    candidate_texts = [idx_to_text(idx) for idx in candidate_indices[0]]\n",
    "    \n",
    "    # 计算距离矩阵\n",
    "    # 使用 1 - 余弦相似度作为距离度量\n",
    "    document_distances = 1 - np.dot(candidate_vectors, candidate_vectors.T)\n",
    "    query_distances = 1 - np.dot(query_embedding, candidate_vectors.T)\n",
    "    \n",
    "    # 应用 dartboard 选择算法\n",
    "    selected_texts, selection_scores = greedy_dartsearch(\n",
    "        query_distances,\n",
    "        document_distances,\n",
    "        candidate_texts,\n",
    "        num_results\n",
    "    )\n",
    "    \n",
    "    return selected_texts, selection_scores"
   ]
  },
  {
   "cell_type": "markdown",
   "metadata": {},
   "source": [
    "### dartboard 检索 - 在相同查询、k 和数据集上的结果\n",
    "- 如您所见，现在前 3 个结果不再是简单的重复。"
   ]
  },
  {
   "cell_type": "code",
   "execution_count": 22,
   "metadata": {},
   "outputs": [
    {
     "name": "stdout",
     "output_type": "stream",
     "text": [
      "Context 1:\n",
      "driven by human activities, particularly the emission of greenhou se gases.  \n",
      "Chapter 2: Causes of Climate Change  \n",
      "Greenhouse Gases  \n",
      "The primary cause of recent climate change is the increase in greenhouse gases in the \n",
      "atmosphere. Greenhouse gases, such as carbon dioxide (CO2), methane (CH4), and nitrous \n",
      "oxide (N2O), trap heat from the sun, creating a \"greenhouse effect.\" This effect is  essential \n",
      "for life on Earth, as it keeps the planet warm enough to support life. However, human \n",
      "activities have intensified this natural process, leading to a warmer climate.  \n",
      "Fossil Fuels  \n",
      "Burning fossil fuels for energy releases large amounts of CO2. This includes coal, oil, and \n",
      "natural gas used for electricity, heating, and transportation. The industrial revolution marked \n",
      "the beginning of a significant increase in fossil fuel consumption, which continues to rise \n",
      "today.  \n",
      "Coal\n",
      "\n",
      "\n",
      "Context 2:\n",
      "Most of these climate changes are attributed to very small variations in Earth's orbit that \n",
      "change the amount of solar energy our planet receives. During the Holocene epoch, which \n",
      "began at the end of the last ice age, human societies f lourished, but the industrial era has seen \n",
      "unprecedented changes.  \n",
      "Modern Observations  \n",
      "Modern scientific observations indicate a rapid increase in global temperatures, sea levels, \n",
      "and extreme weather events. The Intergovernmental Panel on Climate Change (IPCC) has \n",
      "documented these changes extensively. Ice core samples, tree rings, and ocean sediments \n",
      "provide a historical record that scientists use to understand past climate conditions and \n",
      "predict future trends. The evidence overwhelmingly shows that recent changes are primarily \n",
      "driven by human activities, particularly the emission of greenhou se gases.  \n",
      "Chapter 2: Causes of Climate Change  \n",
      "Greenhouse Gases\n",
      "\n",
      "\n",
      "Context 3:\n",
      "driven by human activities, particularly the emission of greenhou se gases.  \n",
      "Chapter 2: Causes of Climate Change  \n",
      "Greenhouse Gases  \n",
      "The primary cause of recent climate change is the increase in greenhouse gases in the \n",
      "atmosphere. Greenhouse gases, such as carbon dioxide (CO2), methane (CH4), and nitrous \n",
      "oxide (N2O), trap heat from the sun, creating a \"greenhouse effect.\" This effect is  essential \n",
      "for life on Earth, as it keeps the planet warm enough to support life. However, human \n",
      "activities have intensified this natural process, leading to a warmer climate.  \n",
      "Fossil Fuels  \n",
      "Burning fossil fuels for energy releases large amounts of CO2. This includes coal, oil, and \n",
      "natural gas used for electricity, heating, and transportation. The industrial revolution marked \n",
      "the beginning of a significant increase in fossil fuel consumption, which continues to rise \n",
      "today.  \n",
      "Coal\n",
      "\n",
      "\n"
     ]
    }
   ],
   "source": [
    "texts,scores=get_context_with_dartboard(test_query,k=3)\n",
    "show_context(texts)\n"
   ]
  }
 ],
 "metadata": {
  "colab": {
   "name": "",
   "provenance": [],
   "toc_visible": true
  },
  "kernelspec": {
   "display_name": "Python 3",
   "name": "python3"
  },
  "language_info": {
   "codemirror_mode": {
    "name": "ipython",
    "version": 3
   },
   "file_extension": ".py",
   "mimetype": "text/x-python",
   "name": "python",
   "nbconvert_exporter": "python",
   "pygments_lexer": "ipython3",
   "version": "3.9.12"
  }
 },
 "nbformat": 4,
 "nbformat_minor": 2
}
