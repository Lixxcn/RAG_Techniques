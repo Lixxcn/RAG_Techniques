{
  "cells": [
    {
      "cell_type": "markdown",
      "metadata": {
        "id": "QFq3wKIK-BE0"
      },
      "source": [
        "[![Open in Colab](https://colab.research.google.com/assets/colab-badge.svg)](https://colab.research.google.com/github/NirDiamant/RAG_Techniques/blob/main/all_rag_techniques/simple_rag.ipynb)"
      ]
    },
    {
      "cell_type": "markdown",
      "metadata": {
        "id": "eKPK-_pj-BE3"
      },
      "source": [
        "# 简单RAG（检索增强生成）系统\n",
        "\n",
        "## 概述\n",
        "\n",
        "此代码实现了一个基本的检索增强生成（RAG）系统，用于处理和查询PDF文档。该系统将文档内容编码到向量存储中，然后可以查询以检索相关信息。\n",
        "\n",
        "## 核心组件\n",
        "\n",
        "1. PDF处理和文本提取\n",
        "2. 文本分块以便于处理\n",
        "3. 使用[FAISS](https://engineering.fb.com/2017/03/29/data-infrastructure/faiss-a-library-for-efficient-similarity-search/)和OpenAI嵌入创建向量存储\n",
        "4. 设置检索器以查询处理后的文档\n",
        "5. RAG系统评估\n",
        "\n",
        "## 方法详情\n",
        "\n",
        "### 文档预处理\n",
        "\n",
        "1. 使用PyPDFLoader加载PDF。\n",
        "2. 使用RecursiveCharacterTextSplitter将文本分割成指定大小和重叠的块。\n",
        "\n",
        "### 文本清理\n",
        "\n",
        "应用自定义函数`replace_t_with_space`来清理文本块。这可能解决PDF中的特定格式问题。\n",
        "\n",
        "### 向量存储创建\n",
        "\n",
        "1. 使用OpenAI嵌入创建文本块的向量表示。\n",
        "2. 从这些嵌入创建FAISS向量存储，以实现高效的相似性搜索。\n",
        "\n",
        "### 检索器设置\n",
        "\n",
        "1. 配置检索器以获取给定查询的前2个最相关的块。\n",
        "\n",
        "### 编码函数\n",
        "\n",
        "`encode_pdf`函数封装了加载、分块、清理和将PDF编码到向量存储的整个过程。\n",
        "\n",
        "## 主要特性\n",
        "\n",
        "1. 模块化设计：编码过程封装在单个函数中，便于重用。\n",
        "2. 可配置分块：允许调整块大小和重叠。\n",
        "3. 高效检索：使用FAISS进行快速相似性搜索。\n",
        "4. 评估：包含评估RAG系统性能的函数。\n",
        "\n",
        "## 使用示例\n",
        "\n",
        "代码包含一个测试查询：\"气候变化的主要原因是什么？\"。这演示了如何使用检索器从处理后的文档中获取相关上下文。\n",
        "\n",
        "## 评估\n",
        "\n",
        "系统包含一个`evaluate_rag`函数来评估检索器的性能，尽管提供的代码中没有详细说明使用的具体指标。\n",
        "\n",
        "## 此方法的优势\n",
        "\n",
        "1. 可扩展性：通过分块处理可以处理大型文档。\n",
        "2. 灵活性：易于调整块大小和检索结果数量等参数。\n",
        "3. 效率：利用FAISS在高维空间中进行快速相似性搜索。\n",
        "4. 与先进NLP集成：使用OpenAI嵌入进行最先进的文本表示。\n",
        "\n",
        "## 结论\n",
        "\n",
        "这个简单的RAG系统为构建更复杂的信息检索和问答系统提供了坚实的基础。通过将文档内容编码到可搜索的向量存储中，它能够高效地检索相关信息以响应查询。这种方法对于需要快速访问大型文档或文档集合中特定信息的应用程序特别有用。"
      ]
    },
    {
      "cell_type": "markdown",
      "metadata": {
        "id": "XvUHveE5-BE3"
      },
      "source": [
        "# 软件包安装和导入\n",
        "\n",
        "下面的单元格安装了运行此笔记本所需的所有必要软件包。\n"
      ]
    },
    {
      "cell_type": "code",
      "execution_count": 1,
      "metadata": {
        "colab": {
          "base_uri": "https://localhost:8080/"
        },
        "id": "xVaHWFwh-BE4",
        "outputId": "d725de55-3b6e-45ad-a599-ca0f4e7d1698"
      },
      "outputs": [
        {
          "name": "stdout",
          "output_type": "stream",
          "text": [
            "Looking in indexes: https://mirrors.tuna.tsinghua.edu.cn/pypi/web/simple\n",
            "Requirement already satisfied: pypdf==5.6.0 in /root/codes/ai/RAG_Techniques/.venv/lib/python3.12/site-packages (5.6.0)\n",
            "Note: you may need to restart the kernel to use updated packages.\n",
            "Looking in indexes: https://mirrors.tuna.tsinghua.edu.cn/pypi/web/simple\n",
            "Requirement already satisfied: PyMuPDF==1.26.1 in /root/codes/ai/RAG_Techniques/.venv/lib/python3.12/site-packages (1.26.1)\n",
            "Note: you may need to restart the kernel to use updated packages.\n",
            "Looking in indexes: https://mirrors.tuna.tsinghua.edu.cn/pypi/web/simple\n",
            "Requirement already satisfied: python-dotenv==1.1.0 in /root/codes/ai/RAG_Techniques/.venv/lib/python3.12/site-packages (1.1.0)\n",
            "Note: you may need to restart the kernel to use updated packages.\n",
            "Looking in indexes: https://mirrors.tuna.tsinghua.edu.cn/pypi/web/simple\n",
            "Requirement already satisfied: langchain-community==0.3.25 in /root/codes/ai/RAG_Techniques/.venv/lib/python3.12/site-packages (0.3.25)\n",
            "Requirement already satisfied: langchain-core<1.0.0,>=0.3.65 in /root/codes/ai/RAG_Techniques/.venv/lib/python3.12/site-packages (from langchain-community==0.3.25) (0.3.68)\n",
            "Requirement already satisfied: langchain<1.0.0,>=0.3.25 in /root/codes/ai/RAG_Techniques/.venv/lib/python3.12/site-packages (from langchain-community==0.3.25) (0.3.26)\n",
            "Requirement already satisfied: SQLAlchemy<3,>=1.4 in /root/codes/ai/RAG_Techniques/.venv/lib/python3.12/site-packages (from langchain-community==0.3.25) (2.0.41)\n",
            "Requirement already satisfied: requests<3,>=2 in /root/codes/ai/RAG_Techniques/.venv/lib/python3.12/site-packages (from langchain-community==0.3.25) (2.32.4)\n",
            "Requirement already satisfied: PyYAML>=5.3 in /root/codes/ai/RAG_Techniques/.venv/lib/python3.12/site-packages (from langchain-community==0.3.25) (6.0.2)\n",
            "Requirement already satisfied: aiohttp<4.0.0,>=3.8.3 in /root/codes/ai/RAG_Techniques/.venv/lib/python3.12/site-packages (from langchain-community==0.3.25) (3.12.13)\n",
            "Requirement already satisfied: tenacity!=8.4.0,<10,>=8.1.0 in /root/codes/ai/RAG_Techniques/.venv/lib/python3.12/site-packages (from langchain-community==0.3.25) (8.5.0)\n",
            "Requirement already satisfied: dataclasses-json<0.7,>=0.5.7 in /root/codes/ai/RAG_Techniques/.venv/lib/python3.12/site-packages (from langchain-community==0.3.25) (0.6.7)\n",
            "Requirement already satisfied: pydantic-settings<3.0.0,>=2.4.0 in /root/codes/ai/RAG_Techniques/.venv/lib/python3.12/site-packages (from langchain-community==0.3.25) (2.10.1)\n",
            "Requirement already satisfied: langsmith<0.4,>=0.1.125 in /root/codes/ai/RAG_Techniques/.venv/lib/python3.12/site-packages (from langchain-community==0.3.25) (0.3.45)\n",
            "Requirement already satisfied: httpx-sse<1.0.0,>=0.4.0 in /root/codes/ai/RAG_Techniques/.venv/lib/python3.12/site-packages (from langchain-community==0.3.25) (0.4.1)\n",
            "Requirement already satisfied: numpy>=1.26.2 in /root/codes/ai/RAG_Techniques/.venv/lib/python3.12/site-packages (from langchain-community==0.3.25) (2.3.1)\n",
            "Requirement already satisfied: aiohappyeyeballs>=2.5.0 in /root/codes/ai/RAG_Techniques/.venv/lib/python3.12/site-packages (from aiohttp<4.0.0,>=3.8.3->langchain-community==0.3.25) (2.6.1)\n",
            "Requirement already satisfied: aiosignal>=1.1.2 in /root/codes/ai/RAG_Techniques/.venv/lib/python3.12/site-packages (from aiohttp<4.0.0,>=3.8.3->langchain-community==0.3.25) (1.4.0)\n",
            "Requirement already satisfied: attrs>=17.3.0 in /root/codes/ai/RAG_Techniques/.venv/lib/python3.12/site-packages (from aiohttp<4.0.0,>=3.8.3->langchain-community==0.3.25) (25.3.0)\n",
            "Requirement already satisfied: frozenlist>=1.1.1 in /root/codes/ai/RAG_Techniques/.venv/lib/python3.12/site-packages (from aiohttp<4.0.0,>=3.8.3->langchain-community==0.3.25) (1.7.0)\n",
            "Requirement already satisfied: multidict<7.0,>=4.5 in /root/codes/ai/RAG_Techniques/.venv/lib/python3.12/site-packages (from aiohttp<4.0.0,>=3.8.3->langchain-community==0.3.25) (6.6.3)\n",
            "Requirement already satisfied: propcache>=0.2.0 in /root/codes/ai/RAG_Techniques/.venv/lib/python3.12/site-packages (from aiohttp<4.0.0,>=3.8.3->langchain-community==0.3.25) (0.3.2)\n",
            "Requirement already satisfied: yarl<2.0,>=1.17.0 in /root/codes/ai/RAG_Techniques/.venv/lib/python3.12/site-packages (from aiohttp<4.0.0,>=3.8.3->langchain-community==0.3.25) (1.20.1)\n",
            "Requirement already satisfied: marshmallow<4.0.0,>=3.18.0 in /root/codes/ai/RAG_Techniques/.venv/lib/python3.12/site-packages (from dataclasses-json<0.7,>=0.5.7->langchain-community==0.3.25) (3.26.1)\n",
            "Requirement already satisfied: typing-inspect<1,>=0.4.0 in /root/codes/ai/RAG_Techniques/.venv/lib/python3.12/site-packages (from dataclasses-json<0.7,>=0.5.7->langchain-community==0.3.25) (0.9.0)\n",
            "Requirement already satisfied: langchain-text-splitters<1.0.0,>=0.3.8 in /root/codes/ai/RAG_Techniques/.venv/lib/python3.12/site-packages (from langchain<1.0.0,>=0.3.25->langchain-community==0.3.25) (0.3.8)\n",
            "Requirement already satisfied: pydantic<3.0.0,>=2.7.4 in /root/codes/ai/RAG_Techniques/.venv/lib/python3.12/site-packages (from langchain<1.0.0,>=0.3.25->langchain-community==0.3.25) (2.11.7)\n",
            "Requirement already satisfied: jsonpatch<2.0,>=1.33 in /root/codes/ai/RAG_Techniques/.venv/lib/python3.12/site-packages (from langchain-core<1.0.0,>=0.3.65->langchain-community==0.3.25) (1.33)\n",
            "Requirement already satisfied: packaging<25,>=23.2 in /root/codes/ai/RAG_Techniques/.venv/lib/python3.12/site-packages (from langchain-core<1.0.0,>=0.3.65->langchain-community==0.3.25) (24.2)\n",
            "Requirement already satisfied: typing-extensions>=4.7 in /root/codes/ai/RAG_Techniques/.venv/lib/python3.12/site-packages (from langchain-core<1.0.0,>=0.3.65->langchain-community==0.3.25) (4.14.1)\n",
            "Requirement already satisfied: jsonpointer>=1.9 in /root/codes/ai/RAG_Techniques/.venv/lib/python3.12/site-packages (from jsonpatch<2.0,>=1.33->langchain-core<1.0.0,>=0.3.65->langchain-community==0.3.25) (3.0.0)\n",
            "Requirement already satisfied: httpx<1,>=0.23.0 in /root/codes/ai/RAG_Techniques/.venv/lib/python3.12/site-packages (from langsmith<0.4,>=0.1.125->langchain-community==0.3.25) (0.28.1)\n",
            "Requirement already satisfied: orjson<4.0.0,>=3.9.14 in /root/codes/ai/RAG_Techniques/.venv/lib/python3.12/site-packages (from langsmith<0.4,>=0.1.125->langchain-community==0.3.25) (3.10.18)\n",
            "Requirement already satisfied: requests-toolbelt<2.0.0,>=1.0.0 in /root/codes/ai/RAG_Techniques/.venv/lib/python3.12/site-packages (from langsmith<0.4,>=0.1.125->langchain-community==0.3.25) (1.0.0)\n",
            "Requirement already satisfied: zstandard<0.24.0,>=0.23.0 in /root/codes/ai/RAG_Techniques/.venv/lib/python3.12/site-packages (from langsmith<0.4,>=0.1.125->langchain-community==0.3.25) (0.23.0)\n",
            "Requirement already satisfied: anyio in /root/codes/ai/RAG_Techniques/.venv/lib/python3.12/site-packages (from httpx<1,>=0.23.0->langsmith<0.4,>=0.1.125->langchain-community==0.3.25) (4.9.0)\n",
            "Requirement already satisfied: certifi in /root/codes/ai/RAG_Techniques/.venv/lib/python3.12/site-packages (from httpx<1,>=0.23.0->langsmith<0.4,>=0.1.125->langchain-community==0.3.25) (2025.6.15)\n",
            "Requirement already satisfied: httpcore==1.* in /root/codes/ai/RAG_Techniques/.venv/lib/python3.12/site-packages (from httpx<1,>=0.23.0->langsmith<0.4,>=0.1.125->langchain-community==0.3.25) (1.0.9)\n",
            "Requirement already satisfied: idna in /root/codes/ai/RAG_Techniques/.venv/lib/python3.12/site-packages (from httpx<1,>=0.23.0->langsmith<0.4,>=0.1.125->langchain-community==0.3.25) (3.10)\n",
            "Requirement already satisfied: h11>=0.16 in /root/codes/ai/RAG_Techniques/.venv/lib/python3.12/site-packages (from httpcore==1.*->httpx<1,>=0.23.0->langsmith<0.4,>=0.1.125->langchain-community==0.3.25) (0.16.0)\n",
            "Requirement already satisfied: annotated-types>=0.6.0 in /root/codes/ai/RAG_Techniques/.venv/lib/python3.12/site-packages (from pydantic<3.0.0,>=2.7.4->langchain<1.0.0,>=0.3.25->langchain-community==0.3.25) (0.7.0)\n",
            "Requirement already satisfied: pydantic-core==2.33.2 in /root/codes/ai/RAG_Techniques/.venv/lib/python3.12/site-packages (from pydantic<3.0.0,>=2.7.4->langchain<1.0.0,>=0.3.25->langchain-community==0.3.25) (2.33.2)\n",
            "Requirement already satisfied: typing-inspection>=0.4.0 in /root/codes/ai/RAG_Techniques/.venv/lib/python3.12/site-packages (from pydantic<3.0.0,>=2.7.4->langchain<1.0.0,>=0.3.25->langchain-community==0.3.25) (0.4.1)\n",
            "Requirement already satisfied: python-dotenv>=0.21.0 in /root/codes/ai/RAG_Techniques/.venv/lib/python3.12/site-packages (from pydantic-settings<3.0.0,>=2.4.0->langchain-community==0.3.25) (1.1.0)\n",
            "Requirement already satisfied: charset_normalizer<4,>=2 in /root/codes/ai/RAG_Techniques/.venv/lib/python3.12/site-packages (from requests<3,>=2->langchain-community==0.3.25) (3.4.2)\n",
            "Requirement already satisfied: urllib3<3,>=1.21.1 in /root/codes/ai/RAG_Techniques/.venv/lib/python3.12/site-packages (from requests<3,>=2->langchain-community==0.3.25) (2.5.0)\n",
            "Requirement already satisfied: greenlet>=1 in /root/codes/ai/RAG_Techniques/.venv/lib/python3.12/site-packages (from SQLAlchemy<3,>=1.4->langchain-community==0.3.25) (3.2.3)\n",
            "Requirement already satisfied: mypy-extensions>=0.3.0 in /root/codes/ai/RAG_Techniques/.venv/lib/python3.12/site-packages (from typing-inspect<1,>=0.4.0->dataclasses-json<0.7,>=0.5.7->langchain-community==0.3.25) (1.1.0)\n",
            "Requirement already satisfied: sniffio>=1.1 in /root/codes/ai/RAG_Techniques/.venv/lib/python3.12/site-packages (from anyio->httpx<1,>=0.23.0->langsmith<0.4,>=0.1.125->langchain-community==0.3.25) (1.3.1)\n",
            "Note: you may need to restart the kernel to use updated packages.\n",
            "Looking in indexes: https://mirrors.tuna.tsinghua.edu.cn/pypi/web/simple\n",
            "Requirement already satisfied: langchain_openai==0.3.23 in /root/codes/ai/RAG_Techniques/.venv/lib/python3.12/site-packages (0.3.23)\n",
            "Requirement already satisfied: langchain-core<1.0.0,>=0.3.65 in /root/codes/ai/RAG_Techniques/.venv/lib/python3.12/site-packages (from langchain_openai==0.3.23) (0.3.68)\n",
            "Requirement already satisfied: openai<2.0.0,>=1.68.2 in /root/codes/ai/RAG_Techniques/.venv/lib/python3.12/site-packages (from langchain_openai==0.3.23) (1.93.1)\n",
            "Requirement already satisfied: tiktoken<1,>=0.7 in /root/codes/ai/RAG_Techniques/.venv/lib/python3.12/site-packages (from langchain_openai==0.3.23) (0.9.0)\n",
            "Requirement already satisfied: langsmith>=0.3.45 in /root/codes/ai/RAG_Techniques/.venv/lib/python3.12/site-packages (from langchain-core<1.0.0,>=0.3.65->langchain_openai==0.3.23) (0.3.45)\n",
            "Requirement already satisfied: tenacity!=8.4.0,<10.0.0,>=8.1.0 in /root/codes/ai/RAG_Techniques/.venv/lib/python3.12/site-packages (from langchain-core<1.0.0,>=0.3.65->langchain_openai==0.3.23) (8.5.0)\n",
            "Requirement already satisfied: jsonpatch<2.0,>=1.33 in /root/codes/ai/RAG_Techniques/.venv/lib/python3.12/site-packages (from langchain-core<1.0.0,>=0.3.65->langchain_openai==0.3.23) (1.33)\n",
            "Requirement already satisfied: PyYAML>=5.3 in /root/codes/ai/RAG_Techniques/.venv/lib/python3.12/site-packages (from langchain-core<1.0.0,>=0.3.65->langchain_openai==0.3.23) (6.0.2)\n",
            "Requirement already satisfied: packaging<25,>=23.2 in /root/codes/ai/RAG_Techniques/.venv/lib/python3.12/site-packages (from langchain-core<1.0.0,>=0.3.65->langchain_openai==0.3.23) (24.2)\n",
            "Requirement already satisfied: typing-extensions>=4.7 in /root/codes/ai/RAG_Techniques/.venv/lib/python3.12/site-packages (from langchain-core<1.0.0,>=0.3.65->langchain_openai==0.3.23) (4.14.1)\n",
            "Requirement already satisfied: pydantic>=2.7.4 in /root/codes/ai/RAG_Techniques/.venv/lib/python3.12/site-packages (from langchain-core<1.0.0,>=0.3.65->langchain_openai==0.3.23) (2.11.7)\n",
            "Requirement already satisfied: jsonpointer>=1.9 in /root/codes/ai/RAG_Techniques/.venv/lib/python3.12/site-packages (from jsonpatch<2.0,>=1.33->langchain-core<1.0.0,>=0.3.65->langchain_openai==0.3.23) (3.0.0)\n",
            "Requirement already satisfied: anyio<5,>=3.5.0 in /root/codes/ai/RAG_Techniques/.venv/lib/python3.12/site-packages (from openai<2.0.0,>=1.68.2->langchain_openai==0.3.23) (4.9.0)\n",
            "Requirement already satisfied: distro<2,>=1.7.0 in /root/codes/ai/RAG_Techniques/.venv/lib/python3.12/site-packages (from openai<2.0.0,>=1.68.2->langchain_openai==0.3.23) (1.9.0)\n",
            "Requirement already satisfied: httpx<1,>=0.23.0 in /root/codes/ai/RAG_Techniques/.venv/lib/python3.12/site-packages (from openai<2.0.0,>=1.68.2->langchain_openai==0.3.23) (0.28.1)\n",
            "Requirement already satisfied: jiter<1,>=0.4.0 in /root/codes/ai/RAG_Techniques/.venv/lib/python3.12/site-packages (from openai<2.0.0,>=1.68.2->langchain_openai==0.3.23) (0.10.0)\n",
            "Requirement already satisfied: sniffio in /root/codes/ai/RAG_Techniques/.venv/lib/python3.12/site-packages (from openai<2.0.0,>=1.68.2->langchain_openai==0.3.23) (1.3.1)\n",
            "Requirement already satisfied: tqdm>4 in /root/codes/ai/RAG_Techniques/.venv/lib/python3.12/site-packages (from openai<2.0.0,>=1.68.2->langchain_openai==0.3.23) (4.67.1)\n",
            "Requirement already satisfied: idna>=2.8 in /root/codes/ai/RAG_Techniques/.venv/lib/python3.12/site-packages (from anyio<5,>=3.5.0->openai<2.0.0,>=1.68.2->langchain_openai==0.3.23) (3.10)\n",
            "Requirement already satisfied: certifi in /root/codes/ai/RAG_Techniques/.venv/lib/python3.12/site-packages (from httpx<1,>=0.23.0->openai<2.0.0,>=1.68.2->langchain_openai==0.3.23) (2025.6.15)\n",
            "Requirement already satisfied: httpcore==1.* in /root/codes/ai/RAG_Techniques/.venv/lib/python3.12/site-packages (from httpx<1,>=0.23.0->openai<2.0.0,>=1.68.2->langchain_openai==0.3.23) (1.0.9)\n",
            "Requirement already satisfied: h11>=0.16 in /root/codes/ai/RAG_Techniques/.venv/lib/python3.12/site-packages (from httpcore==1.*->httpx<1,>=0.23.0->openai<2.0.0,>=1.68.2->langchain_openai==0.3.23) (0.16.0)\n",
            "Requirement already satisfied: annotated-types>=0.6.0 in /root/codes/ai/RAG_Techniques/.venv/lib/python3.12/site-packages (from pydantic>=2.7.4->langchain-core<1.0.0,>=0.3.65->langchain_openai==0.3.23) (0.7.0)\n",
            "Requirement already satisfied: pydantic-core==2.33.2 in /root/codes/ai/RAG_Techniques/.venv/lib/python3.12/site-packages (from pydantic>=2.7.4->langchain-core<1.0.0,>=0.3.65->langchain_openai==0.3.23) (2.33.2)\n",
            "Requirement already satisfied: typing-inspection>=0.4.0 in /root/codes/ai/RAG_Techniques/.venv/lib/python3.12/site-packages (from pydantic>=2.7.4->langchain-core<1.0.0,>=0.3.65->langchain_openai==0.3.23) (0.4.1)\n",
            "Requirement already satisfied: regex>=2022.1.18 in /root/codes/ai/RAG_Techniques/.venv/lib/python3.12/site-packages (from tiktoken<1,>=0.7->langchain_openai==0.3.23) (2024.11.6)\n",
            "Requirement already satisfied: requests>=2.26.0 in /root/codes/ai/RAG_Techniques/.venv/lib/python3.12/site-packages (from tiktoken<1,>=0.7->langchain_openai==0.3.23) (2.32.4)\n",
            "Requirement already satisfied: orjson<4.0.0,>=3.9.14 in /root/codes/ai/RAG_Techniques/.venv/lib/python3.12/site-packages (from langsmith>=0.3.45->langchain-core<1.0.0,>=0.3.65->langchain_openai==0.3.23) (3.10.18)\n",
            "Requirement already satisfied: requests-toolbelt<2.0.0,>=1.0.0 in /root/codes/ai/RAG_Techniques/.venv/lib/python3.12/site-packages (from langsmith>=0.3.45->langchain-core<1.0.0,>=0.3.65->langchain_openai==0.3.23) (1.0.0)\n",
            "Requirement already satisfied: zstandard<0.24.0,>=0.23.0 in /root/codes/ai/RAG_Techniques/.venv/lib/python3.12/site-packages (from langsmith>=0.3.45->langchain-core<1.0.0,>=0.3.65->langchain_openai==0.3.23) (0.23.0)\n",
            "Requirement already satisfied: charset_normalizer<4,>=2 in /root/codes/ai/RAG_Techniques/.venv/lib/python3.12/site-packages (from requests>=2.26.0->tiktoken<1,>=0.7->langchain_openai==0.3.23) (3.4.2)\n",
            "Requirement already satisfied: urllib3<3,>=1.21.1 in /root/codes/ai/RAG_Techniques/.venv/lib/python3.12/site-packages (from requests>=2.26.0->tiktoken<1,>=0.7->langchain_openai==0.3.23) (2.5.0)\n",
            "Note: you may need to restart the kernel to use updated packages.\n",
            "Looking in indexes: https://mirrors.tuna.tsinghua.edu.cn/pypi/web/simple\n",
            "Requirement already satisfied: rank_bm25==0.2.2 in /root/codes/ai/RAG_Techniques/.venv/lib/python3.12/site-packages (0.2.2)\n",
            "Requirement already satisfied: numpy in /root/codes/ai/RAG_Techniques/.venv/lib/python3.12/site-packages (from rank_bm25==0.2.2) (2.3.1)\n",
            "Note: you may need to restart the kernel to use updated packages.\n",
            "Looking in indexes: https://mirrors.tuna.tsinghua.edu.cn/pypi/web/simple\n",
            "Requirement already satisfied: faiss-cpu==1.11.0 in /root/codes/ai/RAG_Techniques/.venv/lib/python3.12/site-packages (1.11.0)\n",
            "Requirement already satisfied: numpy<3.0,>=1.25.0 in /root/codes/ai/RAG_Techniques/.venv/lib/python3.12/site-packages (from faiss-cpu==1.11.0) (2.3.1)\n",
            "Requirement already satisfied: packaging in /root/codes/ai/RAG_Techniques/.venv/lib/python3.12/site-packages (from faiss-cpu==1.11.0) (24.2)\n",
            "Note: you may need to restart the kernel to use updated packages.\n",
            "Looking in indexes: https://mirrors.tuna.tsinghua.edu.cn/pypi/web/simple\n",
            "Requirement already satisfied: deepeval==3.1.0 in /root/codes/ai/RAG_Techniques/.venv/lib/python3.12/site-packages (3.1.0)\n",
            "Requirement already satisfied: aiohttp in /root/codes/ai/RAG_Techniques/.venv/lib/python3.12/site-packages (from deepeval==3.1.0) (3.12.13)\n",
            "Requirement already satisfied: anthropic in /root/codes/ai/RAG_Techniques/.venv/lib/python3.12/site-packages (from deepeval==3.1.0) (0.57.1)\n",
            "Requirement already satisfied: click<8.2.0,>=8.0.0 in /root/codes/ai/RAG_Techniques/.venv/lib/python3.12/site-packages (from deepeval==3.1.0) (8.1.8)\n",
            "Requirement already satisfied: google-genai<2.0.0,>=1.9.0 in /root/codes/ai/RAG_Techniques/.venv/lib/python3.12/site-packages (from deepeval==3.1.0) (1.24.0)\n",
            "Requirement already satisfied: grpcio<2.0.0,>=1.67.1 in /root/codes/ai/RAG_Techniques/.venv/lib/python3.12/site-packages (from deepeval==3.1.0) (1.73.1)\n",
            "Requirement already satisfied: nest_asyncio in /root/codes/ai/RAG_Techniques/.venv/lib/python3.12/site-packages (from deepeval==3.1.0) (1.6.0)\n",
            "Requirement already satisfied: ollama in /root/codes/ai/RAG_Techniques/.venv/lib/python3.12/site-packages (from deepeval==3.1.0) (0.5.1)\n",
            "Requirement already satisfied: openai in /root/codes/ai/RAG_Techniques/.venv/lib/python3.12/site-packages (from deepeval==3.1.0) (1.93.1)\n",
            "Requirement already satisfied: opentelemetry-api<2.0.0,>=1.24.0 in /root/codes/ai/RAG_Techniques/.venv/lib/python3.12/site-packages (from deepeval==3.1.0) (1.34.1)\n",
            "Requirement already satisfied: opentelemetry-exporter-otlp-proto-grpc<2.0.0,>=1.24.0 in /root/codes/ai/RAG_Techniques/.venv/lib/python3.12/site-packages (from deepeval==3.1.0) (1.34.1)\n",
            "Requirement already satisfied: opentelemetry-sdk<2.0.0,>=1.24.0 in /root/codes/ai/RAG_Techniques/.venv/lib/python3.12/site-packages (from deepeval==3.1.0) (1.34.1)\n",
            "Requirement already satisfied: portalocker in /root/codes/ai/RAG_Techniques/.venv/lib/python3.12/site-packages (from deepeval==3.1.0) (3.2.0)\n",
            "Requirement already satisfied: posthog<4.0.0,>=3.23.0 in /root/codes/ai/RAG_Techniques/.venv/lib/python3.12/site-packages (from deepeval==3.1.0) (3.25.0)\n",
            "Requirement already satisfied: pyfiglet in /root/codes/ai/RAG_Techniques/.venv/lib/python3.12/site-packages (from deepeval==3.1.0) (1.0.3)\n",
            "Requirement already satisfied: pytest in /root/codes/ai/RAG_Techniques/.venv/lib/python3.12/site-packages (from deepeval==3.1.0) (8.4.1)\n",
            "Requirement already satisfied: pytest-asyncio in /root/codes/ai/RAG_Techniques/.venv/lib/python3.12/site-packages (from deepeval==3.1.0) (1.0.0)\n",
            "Requirement already satisfied: pytest-repeat in /root/codes/ai/RAG_Techniques/.venv/lib/python3.12/site-packages (from deepeval==3.1.0) (0.9.4)\n",
            "Requirement already satisfied: pytest-rerunfailures<13.0,>=12.0 in /root/codes/ai/RAG_Techniques/.venv/lib/python3.12/site-packages (from deepeval==3.1.0) (12.0)\n",
            "Requirement already satisfied: pytest-xdist in /root/codes/ai/RAG_Techniques/.venv/lib/python3.12/site-packages (from deepeval==3.1.0) (3.8.0)\n",
            "Requirement already satisfied: requests<3.0.0,>=2.31.0 in /root/codes/ai/RAG_Techniques/.venv/lib/python3.12/site-packages (from deepeval==3.1.0) (2.32.4)\n",
            "Requirement already satisfied: rich<14.0.0,>=13.6.0 in /root/codes/ai/RAG_Techniques/.venv/lib/python3.12/site-packages (from deepeval==3.1.0) (13.9.4)\n",
            "Requirement already satisfied: sentry-sdk in /root/codes/ai/RAG_Techniques/.venv/lib/python3.12/site-packages (from deepeval==3.1.0) (2.32.0)\n",
            "Requirement already satisfied: setuptools in /root/codes/ai/RAG_Techniques/.venv/lib/python3.12/site-packages (from deepeval==3.1.0) (80.9.0)\n",
            "Requirement already satisfied: tabulate<0.10.0,>=0.9.0 in /root/codes/ai/RAG_Techniques/.venv/lib/python3.12/site-packages (from deepeval==3.1.0) (0.9.0)\n",
            "Requirement already satisfied: tenacity<=9.0.0 in /root/codes/ai/RAG_Techniques/.venv/lib/python3.12/site-packages (from deepeval==3.1.0) (8.5.0)\n",
            "Requirement already satisfied: tqdm<5.0.0,>=4.66.1 in /root/codes/ai/RAG_Techniques/.venv/lib/python3.12/site-packages (from deepeval==3.1.0) (4.67.1)\n",
            "Requirement already satisfied: typer<1.0.0,>=0.9 in /root/codes/ai/RAG_Techniques/.venv/lib/python3.12/site-packages (from deepeval==3.1.0) (0.16.0)\n",
            "Requirement already satisfied: wheel in /root/codes/ai/RAG_Techniques/.venv/lib/python3.12/site-packages (from deepeval==3.1.0) (0.45.1)\n",
            "Requirement already satisfied: anyio<5.0.0,>=4.8.0 in /root/codes/ai/RAG_Techniques/.venv/lib/python3.12/site-packages (from google-genai<2.0.0,>=1.9.0->deepeval==3.1.0) (4.9.0)\n",
            "Requirement already satisfied: google-auth<3.0.0,>=2.14.1 in /root/codes/ai/RAG_Techniques/.venv/lib/python3.12/site-packages (from google-genai<2.0.0,>=1.9.0->deepeval==3.1.0) (2.40.3)\n",
            "Requirement already satisfied: httpx<1.0.0,>=0.28.1 in /root/codes/ai/RAG_Techniques/.venv/lib/python3.12/site-packages (from google-genai<2.0.0,>=1.9.0->deepeval==3.1.0) (0.28.1)\n",
            "Requirement already satisfied: pydantic<3.0.0,>=2.0.0 in /root/codes/ai/RAG_Techniques/.venv/lib/python3.12/site-packages (from google-genai<2.0.0,>=1.9.0->deepeval==3.1.0) (2.11.7)\n",
            "Requirement already satisfied: websockets<15.1.0,>=13.0.0 in /root/codes/ai/RAG_Techniques/.venv/lib/python3.12/site-packages (from google-genai<2.0.0,>=1.9.0->deepeval==3.1.0) (15.0.1)\n",
            "Requirement already satisfied: typing-extensions<5.0.0,>=4.11.0 in /root/codes/ai/RAG_Techniques/.venv/lib/python3.12/site-packages (from google-genai<2.0.0,>=1.9.0->deepeval==3.1.0) (4.14.1)\n",
            "Requirement already satisfied: idna>=2.8 in /root/codes/ai/RAG_Techniques/.venv/lib/python3.12/site-packages (from anyio<5.0.0,>=4.8.0->google-genai<2.0.0,>=1.9.0->deepeval==3.1.0) (3.10)\n",
            "Requirement already satisfied: sniffio>=1.1 in /root/codes/ai/RAG_Techniques/.venv/lib/python3.12/site-packages (from anyio<5.0.0,>=4.8.0->google-genai<2.0.0,>=1.9.0->deepeval==3.1.0) (1.3.1)\n",
            "Requirement already satisfied: cachetools<6.0,>=2.0.0 in /root/codes/ai/RAG_Techniques/.venv/lib/python3.12/site-packages (from google-auth<3.0.0,>=2.14.1->google-genai<2.0.0,>=1.9.0->deepeval==3.1.0) (5.5.2)\n",
            "Requirement already satisfied: pyasn1-modules>=0.2.1 in /root/codes/ai/RAG_Techniques/.venv/lib/python3.12/site-packages (from google-auth<3.0.0,>=2.14.1->google-genai<2.0.0,>=1.9.0->deepeval==3.1.0) (0.4.2)\n",
            "Requirement already satisfied: rsa<5,>=3.1.4 in /root/codes/ai/RAG_Techniques/.venv/lib/python3.12/site-packages (from google-auth<3.0.0,>=2.14.1->google-genai<2.0.0,>=1.9.0->deepeval==3.1.0) (4.9.1)\n",
            "Requirement already satisfied: certifi in /root/codes/ai/RAG_Techniques/.venv/lib/python3.12/site-packages (from httpx<1.0.0,>=0.28.1->google-genai<2.0.0,>=1.9.0->deepeval==3.1.0) (2025.6.15)\n",
            "Requirement already satisfied: httpcore==1.* in /root/codes/ai/RAG_Techniques/.venv/lib/python3.12/site-packages (from httpx<1.0.0,>=0.28.1->google-genai<2.0.0,>=1.9.0->deepeval==3.1.0) (1.0.9)\n",
            "Requirement already satisfied: h11>=0.16 in /root/codes/ai/RAG_Techniques/.venv/lib/python3.12/site-packages (from httpcore==1.*->httpx<1.0.0,>=0.28.1->google-genai<2.0.0,>=1.9.0->deepeval==3.1.0) (0.16.0)\n",
            "Requirement already satisfied: importlib-metadata<8.8.0,>=6.0 in /root/codes/ai/RAG_Techniques/.venv/lib/python3.12/site-packages (from opentelemetry-api<2.0.0,>=1.24.0->deepeval==3.1.0) (8.7.0)\n",
            "Requirement already satisfied: zipp>=3.20 in /root/codes/ai/RAG_Techniques/.venv/lib/python3.12/site-packages (from importlib-metadata<8.8.0,>=6.0->opentelemetry-api<2.0.0,>=1.24.0->deepeval==3.1.0) (3.23.0)\n",
            "Requirement already satisfied: googleapis-common-protos~=1.52 in /root/codes/ai/RAG_Techniques/.venv/lib/python3.12/site-packages (from opentelemetry-exporter-otlp-proto-grpc<2.0.0,>=1.24.0->deepeval==3.1.0) (1.70.0)\n",
            "Requirement already satisfied: opentelemetry-exporter-otlp-proto-common==1.34.1 in /root/codes/ai/RAG_Techniques/.venv/lib/python3.12/site-packages (from opentelemetry-exporter-otlp-proto-grpc<2.0.0,>=1.24.0->deepeval==3.1.0) (1.34.1)\n",
            "Requirement already satisfied: opentelemetry-proto==1.34.1 in /root/codes/ai/RAG_Techniques/.venv/lib/python3.12/site-packages (from opentelemetry-exporter-otlp-proto-grpc<2.0.0,>=1.24.0->deepeval==3.1.0) (1.34.1)\n",
            "Requirement already satisfied: protobuf<6.0,>=5.0 in /root/codes/ai/RAG_Techniques/.venv/lib/python3.12/site-packages (from opentelemetry-proto==1.34.1->opentelemetry-exporter-otlp-proto-grpc<2.0.0,>=1.24.0->deepeval==3.1.0) (5.29.5)\n",
            "Requirement already satisfied: opentelemetry-semantic-conventions==0.55b1 in /root/codes/ai/RAG_Techniques/.venv/lib/python3.12/site-packages (from opentelemetry-sdk<2.0.0,>=1.24.0->deepeval==3.1.0) (0.55b1)\n",
            "Requirement already satisfied: six>=1.5 in /root/codes/ai/RAG_Techniques/.venv/lib/python3.12/site-packages (from posthog<4.0.0,>=3.23.0->deepeval==3.1.0) (1.17.0)\n",
            "Requirement already satisfied: monotonic>=1.5 in /root/codes/ai/RAG_Techniques/.venv/lib/python3.12/site-packages (from posthog<4.0.0,>=3.23.0->deepeval==3.1.0) (1.6)\n",
            "Requirement already satisfied: backoff>=1.10.0 in /root/codes/ai/RAG_Techniques/.venv/lib/python3.12/site-packages (from posthog<4.0.0,>=3.23.0->deepeval==3.1.0) (2.2.1)\n",
            "Requirement already satisfied: python-dateutil>2.1 in /root/codes/ai/RAG_Techniques/.venv/lib/python3.12/site-packages (from posthog<4.0.0,>=3.23.0->deepeval==3.1.0) (2.9.0.post0)\n",
            "Requirement already satisfied: distro>=1.5.0 in /root/codes/ai/RAG_Techniques/.venv/lib/python3.12/site-packages (from posthog<4.0.0,>=3.23.0->deepeval==3.1.0) (1.9.0)\n",
            "Requirement already satisfied: annotated-types>=0.6.0 in /root/codes/ai/RAG_Techniques/.venv/lib/python3.12/site-packages (from pydantic<3.0.0,>=2.0.0->google-genai<2.0.0,>=1.9.0->deepeval==3.1.0) (0.7.0)\n",
            "Requirement already satisfied: pydantic-core==2.33.2 in /root/codes/ai/RAG_Techniques/.venv/lib/python3.12/site-packages (from pydantic<3.0.0,>=2.0.0->google-genai<2.0.0,>=1.9.0->deepeval==3.1.0) (2.33.2)\n",
            "Requirement already satisfied: typing-inspection>=0.4.0 in /root/codes/ai/RAG_Techniques/.venv/lib/python3.12/site-packages (from pydantic<3.0.0,>=2.0.0->google-genai<2.0.0,>=1.9.0->deepeval==3.1.0) (0.4.1)\n",
            "Requirement already satisfied: packaging>=17.1 in /root/codes/ai/RAG_Techniques/.venv/lib/python3.12/site-packages (from pytest-rerunfailures<13.0,>=12.0->deepeval==3.1.0) (24.2)\n",
            "Requirement already satisfied: charset_normalizer<4,>=2 in /root/codes/ai/RAG_Techniques/.venv/lib/python3.12/site-packages (from requests<3.0.0,>=2.31.0->deepeval==3.1.0) (3.4.2)\n",
            "Requirement already satisfied: urllib3<3,>=1.21.1 in /root/codes/ai/RAG_Techniques/.venv/lib/python3.12/site-packages (from requests<3.0.0,>=2.31.0->deepeval==3.1.0) (2.5.0)\n",
            "Requirement already satisfied: markdown-it-py>=2.2.0 in /root/codes/ai/RAG_Techniques/.venv/lib/python3.12/site-packages (from rich<14.0.0,>=13.6.0->deepeval==3.1.0) (3.0.0)\n",
            "Requirement already satisfied: pygments<3.0.0,>=2.13.0 in /root/codes/ai/RAG_Techniques/.venv/lib/python3.12/site-packages (from rich<14.0.0,>=13.6.0->deepeval==3.1.0) (2.19.2)\n",
            "Requirement already satisfied: pyasn1>=0.1.3 in /root/codes/ai/RAG_Techniques/.venv/lib/python3.12/site-packages (from rsa<5,>=3.1.4->google-auth<3.0.0,>=2.14.1->google-genai<2.0.0,>=1.9.0->deepeval==3.1.0) (0.6.1)\n",
            "Requirement already satisfied: shellingham>=1.3.0 in /root/codes/ai/RAG_Techniques/.venv/lib/python3.12/site-packages (from typer<1.0.0,>=0.9->deepeval==3.1.0) (1.5.4)\n",
            "Requirement already satisfied: mdurl~=0.1 in /root/codes/ai/RAG_Techniques/.venv/lib/python3.12/site-packages (from markdown-it-py>=2.2.0->rich<14.0.0,>=13.6.0->deepeval==3.1.0) (0.1.2)\n",
            "Requirement already satisfied: iniconfig>=1 in /root/codes/ai/RAG_Techniques/.venv/lib/python3.12/site-packages (from pytest->deepeval==3.1.0) (2.1.0)\n",
            "Requirement already satisfied: pluggy<2,>=1.5 in /root/codes/ai/RAG_Techniques/.venv/lib/python3.12/site-packages (from pytest->deepeval==3.1.0) (1.6.0)\n",
            "Requirement already satisfied: aiohappyeyeballs>=2.5.0 in /root/codes/ai/RAG_Techniques/.venv/lib/python3.12/site-packages (from aiohttp->deepeval==3.1.0) (2.6.1)\n",
            "Requirement already satisfied: aiosignal>=1.1.2 in /root/codes/ai/RAG_Techniques/.venv/lib/python3.12/site-packages (from aiohttp->deepeval==3.1.0) (1.4.0)\n",
            "Requirement already satisfied: attrs>=17.3.0 in /root/codes/ai/RAG_Techniques/.venv/lib/python3.12/site-packages (from aiohttp->deepeval==3.1.0) (25.3.0)\n",
            "Requirement already satisfied: frozenlist>=1.1.1 in /root/codes/ai/RAG_Techniques/.venv/lib/python3.12/site-packages (from aiohttp->deepeval==3.1.0) (1.7.0)\n",
            "Requirement already satisfied: multidict<7.0,>=4.5 in /root/codes/ai/RAG_Techniques/.venv/lib/python3.12/site-packages (from aiohttp->deepeval==3.1.0) (6.6.3)\n",
            "Requirement already satisfied: propcache>=0.2.0 in /root/codes/ai/RAG_Techniques/.venv/lib/python3.12/site-packages (from aiohttp->deepeval==3.1.0) (0.3.2)\n",
            "Requirement already satisfied: yarl<2.0,>=1.17.0 in /root/codes/ai/RAG_Techniques/.venv/lib/python3.12/site-packages (from aiohttp->deepeval==3.1.0) (1.20.1)\n",
            "Requirement already satisfied: jiter<1,>=0.4.0 in /root/codes/ai/RAG_Techniques/.venv/lib/python3.12/site-packages (from anthropic->deepeval==3.1.0) (0.10.0)\n",
            "Requirement already satisfied: execnet>=2.1 in /root/codes/ai/RAG_Techniques/.venv/lib/python3.12/site-packages (from pytest-xdist->deepeval==3.1.0) (2.1.1)\n",
            "Note: you may need to restart the kernel to use updated packages.\n"
          ]
        }
      ],
      "source": [
        "# Install required packages\n",
        "%pip install pypdf==5.6.0\n",
        "%pip install PyMuPDF==1.26.1\n",
        "%pip install python-dotenv==1.1.0\n",
        "%pip install langchain-community==0.3.25\n",
        "%pip install langchain_openai==0.3.23\n",
        "%pip install rank_bm25==0.2.2\n",
        "%pip install faiss-cpu==1.11.0\n",
        "%pip install deepeval==3.1.0"
      ]
    },
    {
      "cell_type": "code",
      "execution_count": 2,
      "metadata": {
        "colab": {
          "base_uri": "https://localhost:8080/"
        },
        "id": "GGVwzS4v-BE5",
        "outputId": "e5a4d759-3a78-4b76-9670-0375c78757be"
      },
      "outputs": [],
      "source": [
        "# # Clone the repository to access helper functions and evaluation modules\n",
        "# !git clone https://github.com/NirDiamant/RAG_TECHNIQUES.git\n",
        "# import sys\n",
        "# sys.path.append('RAG_TECHNIQUES')\n",
        "\n",
        "# # If you need to run with the latest data\n",
        "# # !cp -r RAG_TECHNIQUES/data ."
      ]
    },
    {
      "cell_type": "code",
      "execution_count": 3,
      "metadata": {
        "colab": {
          "base_uri": "https://localhost:8080/"
        },
        "id": "ha6ASRqq-BE5",
        "outputId": "04acf50b-926e-4ff8-a5a3-6ecf11f74dd2"
      },
      "outputs": [],
      "source": [
        "import os\n",
        "import sys\n",
        "from dotenv import load_dotenv\n",
        "# from google.colab import userdata\n",
        "\n",
        "sys.path.append(os.path.dirname(os.path.abspath('.')))\n",
        "\n",
        "# Load environment variables from a .env file\n",
        "load_dotenv()\n",
        "\n",
        "# Set the OpenAI API key environment variable (comment out if not using OpenAI)\n",
        "# if not userdata.get('SF_API_KEY'):\n",
        "#     os.environ[\"SF_API_KEY\"] = input(\"Please enter your OpenAI API key: \")\n",
        "# else:\n",
        "#     os.environ[\"SF_API_KEY\"] = userdata.get('SF_API_KEY')\n",
        "\n",
        "# Original path append replaced for Colab compatibility\n",
        "\n",
        "\n",
        "\n",
        "from langchain.document_loaders import PyPDFLoader\n",
        "from langchain.text_splitter import RecursiveCharacterTextSplitter\n",
        "from helper_functions import (EmbeddingProvider,\n",
        "                              retrieve_context_per_question,\n",
        "                              replace_t_with_space,\n",
        "                              get_langchain_embedding_provider,\n",
        "                              show_context)\n",
        "\n",
        "# from evaluation.evalute_rag import evaluate_rag\n",
        " \n",
        "from langchain.vectorstores import FAISS\n"
      ]
    },
    {
      "cell_type": "markdown",
      "metadata": {
        "id": "HVWdzMuw-BE5"
      },
      "source": [
        "### Read Docs"
      ]
    },
    {
      "cell_type": "code",
      "execution_count": 4,
      "metadata": {
        "colab": {
          "base_uri": "https://localhost:8080/"
        },
        "id": "AagmKvC0-BE6",
        "outputId": "889d0df0-57b3-4e31-a3d5-7ab52ed33892"
      },
      "outputs": [],
      "source": [
        "# # 下载所需的数据文件\n",
        "# import os\n",
        "# os.makedirs('data', exist_ok=True)\n",
        "\n",
        "# # 下载本笔记本中使用的PDF文档\n",
        "# !wget -O data/Understanding_Climate_Change.pdf https://raw.githubusercontent.com/NirDiamant/RAG_TECHNIQUES/main/data/Understanding_Climate_Change.pdf\n",
        "# !wget -O data/Understanding_Climate_Change.pdf https://raw.githubusercontent.com/NirDiamant/RAG_TECHNIQUES/main/data/Understanding_Climate_Change.pdf\n"
      ]
    },
    {
      "cell_type": "code",
      "execution_count": 5,
      "metadata": {
        "id": "KF5O4Wk4-BE6"
      },
      "outputs": [],
      "source": [
        "# path = \"../data/Understanding_Climate_Change.pdf\"\n",
        "path = \"../data/my_resume.pdf\""
      ]
    },
    {
      "cell_type": "markdown",
      "metadata": {
        "id": "P0MAcEpU-BE6"
      },
      "source": [
        "### 编码文档"
      ]
    },
    {
      "cell_type": "code",
      "execution_count": 6,
      "metadata": {
        "id": "38suL-tJ-BE7"
      },
      "outputs": [],
      "source": [
        "def encode_pdf(path, chunk_size=1000, chunk_overlap=200):\n",
        "    \"\"\"\n",
        "    使用OpenAI嵌入将PDF书籍编码到向量存储中。\n",
        "\n",
        "    Args:\n",
        "        path: PDF文件的路径。\n",
        "        chunk_size: 每个文本块的期望大小。\n",
        "        chunk_overlap: 连续块之间的重叠量。\n",
        "\n",
        "    Returns:\n",
        "        包含编码书籍内容的FAISS向量存储。\n",
        "    \"\"\"\n",
        "\n",
        "    # 加载PDF文档\n",
        "    loader = PyPDFLoader(path)\n",
        "    documents = loader.load()\n",
        "\n",
        "    # 将文档分割成块\n",
        "    text_splitter = RecursiveCharacterTextSplitter(\n",
        "        chunk_size=chunk_size, chunk_overlap=chunk_overlap, length_function=len\n",
        "    )\n",
        "    texts = text_splitter.split_documents(documents)\n",
        "    cleaned_texts = replace_t_with_space(texts)\n",
        "\n",
        "    # 创建嵌入（已测试OpenAI和Amazon Bedrock）\n",
        "    embeddings = get_langchain_embedding_provider(EmbeddingProvider.OPENAI, model_id=\"Qwen/Qwen3-Embedding-4B\"\n",
        "    , base_url=os.environ[\"SF_BASE_URL\"], api_key=os.environ[\"SF_API_KEY\"])\n",
        "    #embeddings = get_langchain_embedding_provider(EmbeddingProvider.AMAZON_BEDROCK)\n",
        "\n",
        "    # 创建向量存储\n",
        "    vectorstore = FAISS.from_documents(cleaned_texts, embeddings)\n",
        "\n",
        "    return vectorstore"
      ]
    },
    {
      "cell_type": "code",
      "execution_count": 30,
      "metadata": {
        "id": "8aysEXUh-BE7"
      },
      "outputs": [],
      "source": [
        "chunks_vector_store = encode_pdf(path, chunk_size=500, chunk_overlap=100)"
      ]
    },
    {
      "cell_type": "markdown",
      "metadata": {
        "id": "YaCrjGRA-BE7"
      },
      "source": [
        "### 创建检索器"
      ]
    },
    {
      "cell_type": "code",
      "execution_count": 31,
      "metadata": {
        "id": "wgVN3-y1-BE7"
      },
      "outputs": [],
      "source": [
        "chunks_query_retriever = chunks_vector_store.as_retriever(search_kwargs={\"k\": 2})"
      ]
    },
    {
      "cell_type": "code",
      "execution_count": 32,
      "metadata": {},
      "outputs": [
        {
          "name": "stdout",
          "output_type": "stream",
          "text": [
            "总分块数量: 12\n"
          ]
        }
      ],
      "source": [
        "# 获取向量存储中的总文档数\n",
        "total_chunks = chunks_vector_store.index.ntotal\n",
        "print(f\"总分块数量: {total_chunks}\")"
      ]
    },
    {
      "cell_type": "code",
      "execution_count": null,
      "metadata": {},
      "outputs": [],
      "source": [
        "def get_chunk_by_index(vector_store, index):\n",
        "    \"\"\"根据索引获取特定分块\"\"\"\n",
        "    docstore_id = vector_store.index_to_docstore_id[index]\n",
        "    document = vector_store.docstore.search(docstore_id)\n",
        "    return document\n",
        "\n",
        "# 使用示例\n",
        "chunk = get_chunk_by_index(chunks_vector_store, 8)  # 获取第一个分块\n",
        "print(f\"分块内容: {chunk.page_content}\")\n",
        "print(f\"分块元数据: {chunk.metadata}\")"
      ]
    },
    {
      "cell_type": "markdown",
      "metadata": {
        "id": "jQJUmIXS-BE7"
      },
      "source": [
        "### 测试检索器"
      ]
    },
    {
      "cell_type": "code",
      "execution_count": null,
      "metadata": {
        "colab": {
          "base_uri": "https://localhost:8080/"
        },
        "id": "sC9jmnHM-BE7",
        "outputId": "463219f6-d06c-4031-d348-f89a66ea15c0"
      },
      "outputs": [],
      "source": [
        "test_query = \"利用  asyncio 对整个告警处理流程进行异步化改造 ， 显著提升了系统的并发处理能力和响应速度\"\n",
        "context = retrieve_context_per_question(test_query, chunks_query_retriever)\n",
        "show_context(context)"
      ]
    },
    {
      "cell_type": "markdown",
      "metadata": {
        "id": "MbrMQXnX-BE8"
      },
      "source": [
        "### 评估结果"
      ]
    },
    {
      "cell_type": "code",
      "execution_count": null,
      "metadata": {
        "colab": {
          "base_uri": "https://localhost:8080/"
        },
        "id": "-Cjmro4s-BE8",
        "outputId": "45d0a93a-6313-4cdf-a30f-cf7ca9525f0e"
      },
      "outputs": [],
      "source": [
        "# # 注意 - 目前仅适用于OPENAI\n",
        "# evaluate_rag(chunks_query_retriever)"
      ]
    },
    {
      "cell_type": "code",
      "execution_count": null,
      "metadata": {
        "id": "77cFwBpjVMWP"
      },
      "outputs": [],
      "source": []
    }
  ],
  "metadata": {
    "colab": {
      "provenance": []
    },
    "kernelspec": {
      "display_name": ".venv",
      "language": "python",
      "name": "python3"
    },
    "language_info": {
      "codemirror_mode": {
        "name": "ipython",
        "version": 3
      },
      "file_extension": ".py",
      "mimetype": "text/x-python",
      "name": "python",
      "nbconvert_exporter": "python",
      "pygments_lexer": "ipython3",
      "version": "3.12.3"
    }
  },
  "nbformat": 4,
  "nbformat_minor": 0
}
